{
  "nbformat": 4,
  "nbformat_minor": 0,
  "metadata": {
    "colab": {
      "provenance": []
    },
    "kernelspec": {
      "name": "python3",
      "display_name": "Python 3"
    },
    "language_info": {
      "name": "python"
    }
  },
  "cells": [
    {
      "cell_type": "markdown",
      "source": [
        " LOAD REQUIRED PACKAGES**\n",
        "**bold text**"
      ],
      "metadata": {
        "id": "3MKiZmcSYYLU"
      }
    },
    {
      "cell_type": "code",
      "execution_count": null,
      "metadata": {
        "id": "VspJKJSU6KLr",
        "colab": {
          "base_uri": "https://localhost:8080/"
        },
        "outputId": "3c163f2e-8f97-42c4-c59b-fd8de81776a3"
      },
      "outputs": [
        {
          "output_type": "stream",
          "name": "stdout",
          "text": [
            "Requirement already satisfied: keras in /usr/local/lib/python3.10/dist-packages (2.15.0)\n",
            "Requirement already satisfied: tensorflow in /usr/local/lib/python3.10/dist-packages (2.15.0)\n",
            "Requirement already satisfied: absl-py>=1.0.0 in /usr/local/lib/python3.10/dist-packages (from tensorflow) (1.4.0)\n",
            "Requirement already satisfied: astunparse>=1.6.0 in /usr/local/lib/python3.10/dist-packages (from tensorflow) (1.6.3)\n",
            "Requirement already satisfied: flatbuffers>=23.5.26 in /usr/local/lib/python3.10/dist-packages (from tensorflow) (24.3.25)\n",
            "Requirement already satisfied: gast!=0.5.0,!=0.5.1,!=0.5.2,>=0.2.1 in /usr/local/lib/python3.10/dist-packages (from tensorflow) (0.6.0)\n",
            "Requirement already satisfied: google-pasta>=0.1.1 in /usr/local/lib/python3.10/dist-packages (from tensorflow) (0.2.0)\n",
            "Requirement already satisfied: h5py>=2.9.0 in /usr/local/lib/python3.10/dist-packages (from tensorflow) (3.9.0)\n",
            "Requirement already satisfied: libclang>=13.0.0 in /usr/local/lib/python3.10/dist-packages (from tensorflow) (18.1.1)\n",
            "Requirement already satisfied: ml-dtypes~=0.2.0 in /usr/local/lib/python3.10/dist-packages (from tensorflow) (0.2.0)\n",
            "Requirement already satisfied: numpy<2.0.0,>=1.23.5 in /usr/local/lib/python3.10/dist-packages (from tensorflow) (1.25.2)\n",
            "Requirement already satisfied: opt-einsum>=2.3.2 in /usr/local/lib/python3.10/dist-packages (from tensorflow) (3.3.0)\n",
            "Requirement already satisfied: packaging in /usr/local/lib/python3.10/dist-packages (from tensorflow) (24.1)\n",
            "Requirement already satisfied: protobuf!=4.21.0,!=4.21.1,!=4.21.2,!=4.21.3,!=4.21.4,!=4.21.5,<5.0.0dev,>=3.20.3 in /usr/local/lib/python3.10/dist-packages (from tensorflow) (3.20.3)\n",
            "Requirement already satisfied: setuptools in /usr/local/lib/python3.10/dist-packages (from tensorflow) (67.7.2)\n",
            "Requirement already satisfied: six>=1.12.0 in /usr/local/lib/python3.10/dist-packages (from tensorflow) (1.16.0)\n",
            "Requirement already satisfied: termcolor>=1.1.0 in /usr/local/lib/python3.10/dist-packages (from tensorflow) (2.4.0)\n",
            "Requirement already satisfied: typing-extensions>=3.6.6 in /usr/local/lib/python3.10/dist-packages (from tensorflow) (4.12.2)\n",
            "Requirement already satisfied: wrapt<1.15,>=1.11.0 in /usr/local/lib/python3.10/dist-packages (from tensorflow) (1.14.1)\n",
            "Requirement already satisfied: tensorflow-io-gcs-filesystem>=0.23.1 in /usr/local/lib/python3.10/dist-packages (from tensorflow) (0.37.0)\n",
            "Requirement already satisfied: grpcio<2.0,>=1.24.3 in /usr/local/lib/python3.10/dist-packages (from tensorflow) (1.64.1)\n",
            "Requirement already satisfied: tensorboard<2.16,>=2.15 in /usr/local/lib/python3.10/dist-packages (from tensorflow) (2.15.2)\n",
            "Requirement already satisfied: tensorflow-estimator<2.16,>=2.15.0 in /usr/local/lib/python3.10/dist-packages (from tensorflow) (2.15.0)\n",
            "Requirement already satisfied: keras<2.16,>=2.15.0 in /usr/local/lib/python3.10/dist-packages (from tensorflow) (2.15.0)\n",
            "Requirement already satisfied: wheel<1.0,>=0.23.0 in /usr/local/lib/python3.10/dist-packages (from astunparse>=1.6.0->tensorflow) (0.43.0)\n",
            "Requirement already satisfied: google-auth<3,>=1.6.3 in /usr/local/lib/python3.10/dist-packages (from tensorboard<2.16,>=2.15->tensorflow) (2.27.0)\n",
            "Requirement already satisfied: google-auth-oauthlib<2,>=0.5 in /usr/local/lib/python3.10/dist-packages (from tensorboard<2.16,>=2.15->tensorflow) (1.2.0)\n",
            "Requirement already satisfied: markdown>=2.6.8 in /usr/local/lib/python3.10/dist-packages (from tensorboard<2.16,>=2.15->tensorflow) (3.6)\n",
            "Requirement already satisfied: requests<3,>=2.21.0 in /usr/local/lib/python3.10/dist-packages (from tensorboard<2.16,>=2.15->tensorflow) (2.31.0)\n",
            "Requirement already satisfied: tensorboard-data-server<0.8.0,>=0.7.0 in /usr/local/lib/python3.10/dist-packages (from tensorboard<2.16,>=2.15->tensorflow) (0.7.2)\n",
            "Requirement already satisfied: werkzeug>=1.0.1 in /usr/local/lib/python3.10/dist-packages (from tensorboard<2.16,>=2.15->tensorflow) (3.0.3)\n",
            "Requirement already satisfied: cachetools<6.0,>=2.0.0 in /usr/local/lib/python3.10/dist-packages (from google-auth<3,>=1.6.3->tensorboard<2.16,>=2.15->tensorflow) (5.3.3)\n",
            "Requirement already satisfied: pyasn1-modules>=0.2.1 in /usr/local/lib/python3.10/dist-packages (from google-auth<3,>=1.6.3->tensorboard<2.16,>=2.15->tensorflow) (0.4.0)\n",
            "Requirement already satisfied: rsa<5,>=3.1.4 in /usr/local/lib/python3.10/dist-packages (from google-auth<3,>=1.6.3->tensorboard<2.16,>=2.15->tensorflow) (4.9)\n",
            "Requirement already satisfied: requests-oauthlib>=0.7.0 in /usr/local/lib/python3.10/dist-packages (from google-auth-oauthlib<2,>=0.5->tensorboard<2.16,>=2.15->tensorflow) (1.3.1)\n",
            "Requirement already satisfied: charset-normalizer<4,>=2 in /usr/local/lib/python3.10/dist-packages (from requests<3,>=2.21.0->tensorboard<2.16,>=2.15->tensorflow) (3.3.2)\n",
            "Requirement already satisfied: idna<4,>=2.5 in /usr/local/lib/python3.10/dist-packages (from requests<3,>=2.21.0->tensorboard<2.16,>=2.15->tensorflow) (3.7)\n",
            "Requirement already satisfied: urllib3<3,>=1.21.1 in /usr/local/lib/python3.10/dist-packages (from requests<3,>=2.21.0->tensorboard<2.16,>=2.15->tensorflow) (2.0.7)\n",
            "Requirement already satisfied: certifi>=2017.4.17 in /usr/local/lib/python3.10/dist-packages (from requests<3,>=2.21.0->tensorboard<2.16,>=2.15->tensorflow) (2024.6.2)\n",
            "Requirement already satisfied: MarkupSafe>=2.1.1 in /usr/local/lib/python3.10/dist-packages (from werkzeug>=1.0.1->tensorboard<2.16,>=2.15->tensorflow) (2.1.5)\n",
            "Requirement already satisfied: pyasn1<0.7.0,>=0.4.6 in /usr/local/lib/python3.10/dist-packages (from pyasn1-modules>=0.2.1->google-auth<3,>=1.6.3->tensorboard<2.16,>=2.15->tensorflow) (0.6.0)\n",
            "Requirement already satisfied: oauthlib>=3.0.0 in /usr/local/lib/python3.10/dist-packages (from requests-oauthlib>=0.7.0->google-auth-oauthlib<2,>=0.5->tensorboard<2.16,>=2.15->tensorflow) (3.2.2)\n",
            "Collecting pyedflib\n",
            "  Downloading pyEDFlib-0.1.37-cp310-cp310-manylinux_2_17_x86_64.manylinux2014_x86_64.whl (2.7 MB)\n",
            "\u001b[2K     \u001b[90m━━━━━━━━━━━━━━━━━━━━━━━━━━━━━━━━━━━━━━━━\u001b[0m \u001b[32m2.7/2.7 MB\u001b[0m \u001b[31m10.7 MB/s\u001b[0m eta \u001b[36m0:00:00\u001b[0m\n",
            "\u001b[?25hRequirement already satisfied: numpy>=1.9.1 in /usr/local/lib/python3.10/dist-packages (from pyedflib) (1.25.2)\n",
            "Installing collected packages: pyedflib\n",
            "Successfully installed pyedflib-0.1.37\n"
          ]
        }
      ],
      "source": [
        "!pip install keras\n",
        "!pip install tensorflow\n",
        "!pip install pyedflib"
      ]
    },
    {
      "cell_type": "markdown",
      "source": [
        "**MOUNTING DRIVE TO HANDLE DATA ESILY**"
      ],
      "metadata": {
        "id": "xx3LJAN1Yig_"
      }
    },
    {
      "cell_type": "code",
      "source": [
        "from google.colab import drive\n",
        "drive.mount('/content/drive')"
      ],
      "metadata": {
        "colab": {
          "base_uri": "https://localhost:8080/"
        },
        "id": "nvfOjKuu_yVf",
        "outputId": "d1c5d1fa-85a2-4bce-908e-f78ae9787706"
      },
      "execution_count": null,
      "outputs": [
        {
          "output_type": "stream",
          "name": "stdout",
          "text": [
            "Drive already mounted at /content/drive; to attempt to forcibly remount, call drive.mount(\"/content/drive\", force_remount=True).\n"
          ]
        }
      ]
    },
    {
      "cell_type": "markdown",
      "source": [
        "**1.LOADING THE DATASET TO PERFOEM**"
      ],
      "metadata": {
        "id": "xz1yVHDGZgmD"
      }
    },
    {
      "cell_type": "code",
      "source": [
        "import pandas as pd\n",
        "\n",
        "subject_info_path = '/content/drive/MyDrive/eeg-during-mental-arithmetic-tasks-1.0.0/subject-info.csv'\n",
        "subject_info = pd.read_csv(subject_info_path)\n",
        "print(subject_info.head())\n"
      ],
      "metadata": {
        "colab": {
          "base_uri": "https://localhost:8080/"
        },
        "id": "WPd3FIhS_ySJ",
        "outputId": "60311861-2852-49d8-e598-9aac6f088e0b"
      },
      "execution_count": null,
      "outputs": [
        {
          "output_type": "stream",
          "name": "stdout",
          "text": [
            "     Subject  Age Gender  Recording year  Number of subtractions  \\\n",
            "0  Subject00   21      F            2011                    9.70   \n",
            "1  Subject01   18      F            2011                   29.35   \n",
            "2  Subject02   19      F            2012                   12.88   \n",
            "3  Subject03   17      F            2010                   31.00   \n",
            "4  Subject04   17      F            2010                    8.60   \n",
            "\n",
            "   Count quality  \n",
            "0              0  \n",
            "1              1  \n",
            "2              1  \n",
            "3              1  \n",
            "4              0  \n"
          ]
        }
      ]
    },
    {
      "cell_type": "code",
      "source": [
        "import os\n",
        "import pyedflib\n",
        "import numpy as np\n",
        "\n",
        "def load_all_edf_files(directory):\n",
        "    eeg_data = []\n",
        "    labels = None\n",
        "    for filename in os.listdir(directory):\n",
        "        if filename.endswith(\".edf\"):\n",
        "            file_path = os.path.join(directory, filename)\n",
        "            f = pyedflib.EdfReader(file_path)\n",
        "            n = f.signals_in_file\n",
        "            signal_labels = f.getSignalLabels()\n",
        "            sigbufs = np.zeros((n, f.getNSamples()[0]))\n",
        "            for i in np.arange(n):\n",
        "                sigbufs[i, :] = f.readSignal(i)\n",
        "            f._close()\n",
        "            eeg_data.append(sigbufs)\n",
        "            labels = signal_labels\n",
        "    return eeg_data, labels\n",
        "\n",
        "data_directory = '/content/drive/MyDrive/eeg-during-mental-arithmetic-tasks-1.0.0'\n",
        "all_eeg_data, labels = load_all_edf_files(data_directory)\n",
        "print(len(all_eeg_data), labels)\n"
      ],
      "metadata": {
        "colab": {
          "base_uri": "https://localhost:8080/"
        },
        "id": "DB2GlsUz_yPo",
        "outputId": "65d78bd9-bb5c-4f2d-fea4-3b29f9ed8581"
      },
      "execution_count": null,
      "outputs": [
        {
          "output_type": "stream",
          "name": "stdout",
          "text": [
            "72 ['EEG Fp1', 'EEG Fp2', 'EEG F3', 'EEG F4', 'EEG F7', 'EEG F8', 'EEG T3', 'EEG T4', 'EEG C3', 'EEG C4', 'EEG T5', 'EEG T6', 'EEG P3', 'EEG P4', 'EEG O1', 'EEG O2', 'EEG Fz', 'EEG Cz', 'EEG Pz', 'EEG A2-A1', 'ECG ECG']\n"
          ]
        }
      ]
    },
    {
      "cell_type": "code",
      "source": [
        "# Check alignment of labels\n",
        "labels = subject_info['Count quality'].values\n",
        "print(f\"Number of labels: {len(labels)}\")\n",
        "print(f\"Number of EEG data files: {len(all_eeg_data)}\")"
      ],
      "metadata": {
        "colab": {
          "base_uri": "https://localhost:8080/"
        },
        "id": "frVvl9AvEKQE",
        "outputId": "f7be1787-f489-4341-fb57-6794a86aaaf2"
      },
      "execution_count": null,
      "outputs": [
        {
          "output_type": "stream",
          "name": "stdout",
          "text": [
            "Number of labels: 36\n",
            "Number of EEG data files: 72\n"
          ]
        }
      ]
    },
    {
      "cell_type": "code",
      "source": [
        "min_length = min(len(all_eeg_data), len(labels))\n",
        "all_eeg_data = all_eeg_data[:min_length]\n",
        "labels = labels[:min_length]"
      ],
      "metadata": {
        "id": "YrPh48YmEKMl"
      },
      "execution_count": null,
      "outputs": []
    },
    {
      "cell_type": "code",
      "source": [
        "print(f\"Aligned number of labels: {len(labels)}\")\n",
        "print(f\"Aligned number of EEG data files: {len(all_eeg_data)}\")"
      ],
      "metadata": {
        "colab": {
          "base_uri": "https://localhost:8080/"
        },
        "id": "W373mcBeEKKI",
        "outputId": "bccf7f32-51b1-436e-d6bb-d04905fcf683"
      },
      "execution_count": null,
      "outputs": [
        {
          "output_type": "stream",
          "name": "stdout",
          "text": [
            "Aligned number of labels: 36\n",
            "Aligned number of EEG data files: 36\n"
          ]
        }
      ]
    },
    {
      "cell_type": "code",
      "source": [
        "# Pad or Truncate Data to Uniform Shape\n",
        "def pad_or_truncate(data, target_length):\n",
        "    if data.shape[1] > target_length:\n",
        "        return data[:, :target_length]\n",
        "    elif data.shape[1] < target_length:\n",
        "        pad_width = target_length - data.shape[1]\n",
        "        return np.pad(data, ((0, 0), (0, pad_width)), mode='constant')\n",
        "    return data\n"
      ],
      "metadata": {
        "id": "2Q6M5PFlEKHv"
      },
      "execution_count": null,
      "outputs": []
    },
    {
      "cell_type": "code",
      "source": [
        "target_length = 2560  # Example length, adjust based on your data\n",
        "all_eeg_data_padded = [pad_or_truncate(eeg, target_length) for eeg in all_eeg_data]\n",
        "all_eeg_data_padded = np.array(all_eeg_data_padded)\n",
        "print(all_eeg_data_padded.shape)\n"
      ],
      "metadata": {
        "colab": {
          "base_uri": "https://localhost:8080/"
        },
        "id": "iyY8h9mIEKFV",
        "outputId": "2c25dea8-2de8-4126-b1ca-d6f7442dfe2a"
      },
      "execution_count": null,
      "outputs": [
        {
          "output_type": "stream",
          "name": "stdout",
          "text": [
            "(36, 21, 2560)\n"
          ]
        }
      ]
    },
    {
      "cell_type": "markdown",
      "source": [
        "**2. Power Spectral Density (PSD) Analysis:**"
      ],
      "metadata": {
        "id": "Fx3tE3z7ZxhS"
      }
    },
    {
      "cell_type": "markdown",
      "source": [
        "\n",
        "\n",
        "a.  Calculate the band-wise PSD for both states: rest (recording eeg dataset\n",
        "before mental arithmetic task) and task (recording of EEG dataset during the\n",
        "mental arithmetic task). Focus on the following frequency bands: Delta (1-4\n",
        "Hz), Theta (4-8 Hz), Alpha (8-12 Hz), Beta (12-30 Hz), and Gamma (30-100\n",
        "Hz).\n",
        "\n"
      ],
      "metadata": {
        "id": "j4gn8WuVZ05W"
      }
    },
    {
      "cell_type": "code",
      "source": [
        "# Calculate PSD\n",
        "from scipy.signal import welch\n",
        "\n",
        "def calculate_psd(data, fs, bands):\n",
        "    psd_features = []\n",
        "    for band in bands:\n",
        "        low, high = band\n",
        "        f, psd = welch(data, fs, nperseg=1024)\n",
        "        band_psd = np.mean(psd[(f >= low) & (f <= high)])\n",
        "        psd_features.append(band_psd)\n",
        "    return psd_features\n",
        "\n",
        "frequency_bands = [(1, 4), (4, 8), (8, 12), (12, 30), (30, 100)]\n",
        "fs = 256  # Sampling frequency\n",
        "psd_features = [calculate_psd(eeg[0], fs, frequency_bands) for eeg in all_eeg_data_padded]\n",
        "psd_features = np.array(psd_features)\n",
        "print(psd_features.shape)"
      ],
      "metadata": {
        "colab": {
          "base_uri": "https://localhost:8080/"
        },
        "id": "JciycCnaEdQT",
        "outputId": "757e6b69-7716-4c65-8b6d-2725c1faaec8"
      },
      "execution_count": null,
      "outputs": [
        {
          "output_type": "stream",
          "name": "stdout",
          "text": [
            "(36, 5)\n"
          ]
        }
      ]
    },
    {
      "cell_type": "markdown",
      "source": [
        "  b. Compare the PSDs of the two states and summarize your findings.\n",
        "\n"
      ],
      "metadata": {
        "id": "qZphFpxLaS9g"
      }
    },
    {
      "cell_type": "code",
      "source": [
        "import matplotlib.pyplot as plt\n",
        "import numpy as np\n",
        "\n",
        "# Assuming psd_features is your calculated PSD features array with shape (number_of_samples, number_of_bands)\n",
        "# Example:\n",
        "psd_features = np.array([\n",
        "    [0.05, 0.1, 0.15, 0.2, 0.25],   # Example values, replace with your actual data\n",
        "    [0.03, 0.08, 0.13, 0.18, 0.23],\n",
        "    [0.07, 0.12, 0.17, 0.22, 0.27],\n",
        "    # Add more rows as per your data\n",
        "])\n",
        "\n",
        "# Frequency band names and colors\n",
        "band_names = ['Delta (1-4 Hz)', 'Theta (4-8 Hz)', 'Alpha (8-12 Hz)', 'Beta (12-30 Hz)', 'Gamma (30-100 Hz)']\n",
        "colors = ['blue', 'green', 'orange', 'red', 'purple']  # Adjust colors as needed\n",
        "\n",
        "# Plotting\n",
        "fig, ax = plt.subplots(figsize=(10, 6))\n",
        "\n",
        "# Plot each band's PSD features\n",
        "for i in range(len(band_names)):\n",
        "    ax.plot(psd_features[:, i], label=band_names[i], marker='o', color=colors[i])\n",
        "\n",
        "ax.set_xlabel('Samples')\n",
        "ax.set_ylabel('Average PSD')\n",
        "ax.set_title('Average Power Spectral Density (PSD) Features')\n",
        "ax.legend()\n",
        "ax.grid(True)\n",
        "\n",
        "plt.tight_layout()\n",
        "plt.show()\n"
      ],
      "metadata": {
        "colab": {
          "base_uri": "https://localhost:8080/",
          "height": 607
        },
        "id": "V0ZRusA5HHMK",
        "outputId": "8dc116f5-3448-44a9-b8a2-ee2e86f499e0"
      },
      "execution_count": null,
      "outputs": [
        {
          "output_type": "display_data",
          "data": {
            "text/plain": [
              "<Figure size 1000x600 with 1 Axes>"
            ],
            "image/png": "[encoded data removed]"
          },
          "metadata": {}
        }
      ]
    },
    {
      "cell_type": "markdown",
      "source": [
        "**3. Deep learning classification:**\n",
        "\n",
        "a. Extract relevant features from the cleaned data\n",
        "\n",
        "\n"
      ],
      "metadata": {
        "id": "D9ZWzAzwYTKC"
      }
    },
    {
      "cell_type": "code",
      "source": [
        "# Split the Data\n",
        "from sklearn.model_selection import train_test_split\n",
        "\n",
        "X_train, X_test, y_train, y_test = train_test_split(psd_features, labels, test_size=0.3, random_state=42)\n",
        "print(f\"X_train shape: {X_train.shape}, y_train shape: {y_train.shape}\")\n",
        "print(f\"X_test shape: {X_test.shape}, y_test shape: {y_test.shape}\")"
      ],
      "metadata": {
        "colab": {
          "base_uri": "https://localhost:8080/"
        },
        "id": "weXJR7cPEdN2",
        "outputId": "e45cb91a-989b-466a-b5e4-5a25d9da7471"
      },
      "execution_count": null,
      "outputs": [
        {
          "output_type": "stream",
          "name": "stdout",
          "text": [
            "X_train shape: (25, 5), y_train shape: (25,)\n",
            "X_test shape: (11, 5), y_test shape: (11,)\n"
          ]
        }
      ]
    },
    {
      "cell_type": "code",
      "source": [
        "import tensorflow as tf\n",
        "from tensorflow.keras.models import Model\n",
        "from tensorflow.keras.layers import Input, Dense, Dropout, Flatten\n",
        "\n",
        "def EEGNet_PSD(nb_classes, Chans=64, Samples=1, dropoutRate=0.5):\n",
        "    input1 = Input(shape=(Chans, Samples))\n",
        "\n",
        "    flatten = Flatten()(input1)\n",
        "    dense1 = Dense(256, activation='elu')(flatten)\n",
        "    dense1 = Dropout(dropoutRate)(dense1)\n",
        "    dense2 = Dense(128, activation='elu')(dense1)\n",
        "    dense2 = Dropout(dropoutRate)(dense2)\n",
        "\n",
        "    output = Dense(nb_classes, activation='softmax')(dense2)\n",
        "\n",
        "    return Model(inputs=input1, outputs=output)\n",
        "\n",
        "# Parameters\n",
        "Chans = psd_features.shape[1]  # Number of channels in PSD\n",
        "Samples = 1  # Because we are using PSD features\n",
        "nb_classes = 2  # Binary classification\n",
        "\n",
        "# Reshape data for EEGNet\n",
        "X_train_psd = X_train.reshape((X_train.shape[0], Chans, Samples))\n",
        "X_test_psd = X_test.reshape((X_test.shape[0], Chans, Samples))\n",
        "\n",
        "# Create and compile the model\n",
        "eegnet_psd = EEGNet_PSD(nb_classes=nb_classes, Chans=Chans, Samples=Samples)\n",
        "eegnet_psd.compile(loss='sparse_categorical_crossentropy', optimizer='adam', metrics=['accuracy'])\n",
        "\n",
        "# Train the model\n",
        "history_eegnet_psd = eegnet_psd.fit(X_train_psd, y_train, epochs=100, validation_data=(X_test_psd, y_test))\n"
      ],
      "metadata": {
        "colab": {
          "base_uri": "https://localhost:8080/"
        },
        "id": "S9fNEY6mEdF_",
        "outputId": "66c01f00-4fc9-4171-fc80-b9035dc0d449"
      },
      "execution_count": null,
      "outputs": [
        {
          "output_type": "stream",
          "name": "stdout",
          "text": [
            "Epoch 1/100\n",
            "1/1 [==============================] - 2s 2s/step - loss: 1.5377 - accuracy: 0.4000 - val_loss: 0.6901 - val_accuracy: 0.7273\n",
            "Epoch 2/100\n",
            "1/1 [==============================] - 0s 69ms/step - loss: 1.4986 - accuracy: 0.4800 - val_loss: 0.9558 - val_accuracy: 0.7273\n",
            "Epoch 3/100\n",
            "1/1 [==============================] - 0s 54ms/step - loss: 1.3546 - accuracy: 0.4800 - val_loss: 1.1112 - val_accuracy: 0.7273\n",
            "Epoch 4/100\n",
            "1/1 [==============================] - 0s 52ms/step - loss: 1.0533 - accuracy: 0.7200 - val_loss: 1.1086 - val_accuracy: 0.7273\n",
            "Epoch 5/100\n",
            "1/1 [==============================] - 0s 49ms/step - loss: 1.1259 - accuracy: 0.6800 - val_loss: 1.0173 - val_accuracy: 0.7273\n",
            "Epoch 6/100\n",
            "1/1 [==============================] - 0s 66ms/step - loss: 1.3533 - accuracy: 0.7200 - val_loss: 0.8776 - val_accuracy: 0.7273\n",
            "Epoch 7/100\n",
            "1/1 [==============================] - 0s 65ms/step - loss: 1.4076 - accuracy: 0.6800 - val_loss: 0.7048 - val_accuracy: 0.7273\n",
            "Epoch 8/100\n",
            "1/1 [==============================] - 0s 49ms/step - loss: 1.5549 - accuracy: 0.5600 - val_loss: 0.6027 - val_accuracy: 0.7273\n",
            "Epoch 9/100\n",
            "1/1 [==============================] - 0s 69ms/step - loss: 1.2861 - accuracy: 0.5200 - val_loss: 0.5734 - val_accuracy: 0.7273\n",
            "Epoch 10/100\n",
            "1/1 [==============================] - 0s 71ms/step - loss: 1.2962 - accuracy: 0.4400 - val_loss: 0.5796 - val_accuracy: 0.7273\n",
            "Epoch 11/100\n",
            "1/1 [==============================] - 0s 74ms/step - loss: 0.8327 - accuracy: 0.5600 - val_loss: 0.6029 - val_accuracy: 0.7273\n",
            "Epoch 12/100\n",
            "1/1 [==============================] - 0s 46ms/step - loss: 0.7686 - accuracy: 0.6400 - val_loss: 0.5969 - val_accuracy: 0.6364\n",
            "Epoch 13/100\n",
            "1/1 [==============================] - 0s 47ms/step - loss: 0.9023 - accuracy: 0.5600 - val_loss: 0.5772 - val_accuracy: 0.7273\n",
            "Epoch 14/100\n",
            "1/1 [==============================] - 0s 68ms/step - loss: 1.3684 - accuracy: 0.4400 - val_loss: 0.5606 - val_accuracy: 0.7273\n",
            "Epoch 15/100\n",
            "1/1 [==============================] - 0s 63ms/step - loss: 0.8559 - accuracy: 0.4800 - val_loss: 0.5630 - val_accuracy: 0.7273\n",
            "Epoch 16/100\n",
            "1/1 [==============================] - 0s 46ms/step - loss: 0.7606 - accuracy: 0.6400 - val_loss: 0.6051 - val_accuracy: 0.7273\n",
            "Epoch 17/100\n",
            "1/1 [==============================] - 0s 64ms/step - loss: 0.9172 - accuracy: 0.6400 - val_loss: 0.6887 - val_accuracy: 0.7273\n",
            "Epoch 18/100\n",
            "1/1 [==============================] - 0s 46ms/step - loss: 1.2895 - accuracy: 0.4400 - val_loss: 0.7778 - val_accuracy: 0.7273\n",
            "Epoch 19/100\n",
            "1/1 [==============================] - 0s 62ms/step - loss: 1.1426 - accuracy: 0.6400 - val_loss: 0.8635 - val_accuracy: 0.7273\n",
            "Epoch 20/100\n",
            "1/1 [==============================] - 0s 46ms/step - loss: 0.7484 - accuracy: 0.6800 - val_loss: 0.9111 - val_accuracy: 0.7273\n",
            "Epoch 21/100\n",
            "1/1 [==============================] - 0s 70ms/step - loss: 0.9376 - accuracy: 0.7200 - val_loss: 0.9461 - val_accuracy: 0.7273\n",
            "Epoch 22/100\n",
            "1/1 [==============================] - 0s 64ms/step - loss: 0.9139 - accuracy: 0.7200 - val_loss: 0.9303 - val_accuracy: 0.7273\n",
            "Epoch 23/100\n",
            "1/1 [==============================] - 0s 78ms/step - loss: 0.6728 - accuracy: 0.8000 - val_loss: 0.8795 - val_accuracy: 0.7273\n",
            "Epoch 24/100\n",
            "1/1 [==============================] - 0s 75ms/step - loss: 0.5320 - accuracy: 0.8000 - val_loss: 0.8367 - val_accuracy: 0.7273\n",
            "Epoch 25/100\n",
            "1/1 [==============================] - 0s 61ms/step - loss: 0.9275 - accuracy: 0.7200 - val_loss: 0.7775 - val_accuracy: 0.7273\n",
            "Epoch 26/100\n",
            "1/1 [==============================] - 0s 67ms/step - loss: 0.9778 - accuracy: 0.6800 - val_loss: 0.7093 - val_accuracy: 0.7273\n",
            "Epoch 27/100\n",
            "1/1 [==============================] - 0s 70ms/step - loss: 0.7878 - accuracy: 0.6000 - val_loss: 0.6496 - val_accuracy: 0.7273\n",
            "Epoch 28/100\n",
            "1/1 [==============================] - 0s 58ms/step - loss: 0.7108 - accuracy: 0.6400 - val_loss: 0.6086 - val_accuracy: 0.7273\n",
            "Epoch 29/100\n",
            "1/1 [==============================] - 0s 63ms/step - loss: 0.7856 - accuracy: 0.7200 - val_loss: 0.5752 - val_accuracy: 0.7273\n",
            "Epoch 30/100\n",
            "1/1 [==============================] - 0s 64ms/step - loss: 1.1486 - accuracy: 0.4800 - val_loss: 0.5673 - val_accuracy: 0.7273\n",
            "Epoch 31/100\n",
            "1/1 [==============================] - 0s 62ms/step - loss: 1.3145 - accuracy: 0.5600 - val_loss: 0.5639 - val_accuracy: 0.7273\n",
            "Epoch 32/100\n",
            "1/1 [==============================] - 0s 69ms/step - loss: 0.8472 - accuracy: 0.6800 - val_loss: 0.5617 - val_accuracy: 0.7273\n",
            "Epoch 33/100\n",
            "1/1 [==============================] - 0s 63ms/step - loss: 0.8354 - accuracy: 0.6000 - val_loss: 0.5600 - val_accuracy: 0.7273\n",
            "Epoch 34/100\n",
            "1/1 [==============================] - 0s 63ms/step - loss: 0.6974 - accuracy: 0.6800 - val_loss: 0.5612 - val_accuracy: 0.7273\n",
            "Epoch 35/100\n",
            "1/1 [==============================] - 0s 50ms/step - loss: 0.9207 - accuracy: 0.4800 - val_loss: 0.5633 - val_accuracy: 0.7273\n",
            "Epoch 36/100\n",
            "1/1 [==============================] - 0s 93ms/step - loss: 0.5719 - accuracy: 0.6000 - val_loss: 0.5719 - val_accuracy: 0.7273\n",
            "Epoch 37/100\n",
            "1/1 [==============================] - 0s 78ms/step - loss: 0.5916 - accuracy: 0.7200 - val_loss: 0.5966 - val_accuracy: 0.7273\n",
            "Epoch 38/100\n",
            "1/1 [==============================] - 0s 81ms/step - loss: 1.0195 - accuracy: 0.6000 - val_loss: 0.6437 - val_accuracy: 0.7273\n",
            "Epoch 39/100\n",
            "1/1 [==============================] - 0s 66ms/step - loss: 0.8262 - accuracy: 0.6000 - val_loss: 0.7056 - val_accuracy: 0.7273\n",
            "Epoch 40/100\n",
            "1/1 [==============================] - 0s 76ms/step - loss: 0.6997 - accuracy: 0.6400 - val_loss: 0.7395 - val_accuracy: 0.7273\n",
            "Epoch 41/100\n",
            "1/1 [==============================] - 0s 66ms/step - loss: 0.9860 - accuracy: 0.6000 - val_loss: 0.7668 - val_accuracy: 0.7273\n",
            "Epoch 42/100\n",
            "1/1 [==============================] - 0s 68ms/step - loss: 0.4947 - accuracy: 0.6800 - val_loss: 0.7768 - val_accuracy: 0.7273\n",
            "Epoch 43/100\n",
            "1/1 [==============================] - 0s 55ms/step - loss: 0.9201 - accuracy: 0.6000 - val_loss: 0.7920 - val_accuracy: 0.7273\n",
            "Epoch 44/100\n",
            "1/1 [==============================] - 0s 44ms/step - loss: 0.7782 - accuracy: 0.7200 - val_loss: 0.7789 - val_accuracy: 0.7273\n",
            "Epoch 45/100\n",
            "1/1 [==============================] - 0s 35ms/step - loss: 0.7511 - accuracy: 0.6800 - val_loss: 0.7477 - val_accuracy: 0.7273\n",
            "Epoch 46/100\n",
            "1/1 [==============================] - 0s 34ms/step - loss: 0.7827 - accuracy: 0.7200 - val_loss: 0.6999 - val_accuracy: 0.7273\n",
            "Epoch 47/100\n",
            "1/1 [==============================] - 0s 35ms/step - loss: 1.1624 - accuracy: 0.6000 - val_loss: 0.6494 - val_accuracy: 0.7273\n",
            "Epoch 48/100\n",
            "1/1 [==============================] - 0s 41ms/step - loss: 0.9634 - accuracy: 0.6000 - val_loss: 0.6194 - val_accuracy: 0.7273\n",
            "Epoch 49/100\n",
            "1/1 [==============================] - 0s 36ms/step - loss: 1.0087 - accuracy: 0.6000 - val_loss: 0.5966 - val_accuracy: 0.7273\n",
            "Epoch 50/100\n",
            "1/1 [==============================] - 0s 35ms/step - loss: 0.9319 - accuracy: 0.4800 - val_loss: 0.5773 - val_accuracy: 0.7273\n",
            "Epoch 51/100\n",
            "1/1 [==============================] - 0s 37ms/step - loss: 0.7351 - accuracy: 0.6400 - val_loss: 0.5701 - val_accuracy: 0.7273\n",
            "Epoch 52/100\n",
            "1/1 [==============================] - 0s 35ms/step - loss: 0.7231 - accuracy: 0.5600 - val_loss: 0.5645 - val_accuracy: 0.7273\n",
            "Epoch 53/100\n",
            "1/1 [==============================] - 0s 38ms/step - loss: 0.6674 - accuracy: 0.6400 - val_loss: 0.5604 - val_accuracy: 0.7273\n",
            "Epoch 54/100\n",
            "1/1 [==============================] - 0s 42ms/step - loss: 0.9914 - accuracy: 0.5600 - val_loss: 0.5608 - val_accuracy: 0.7273\n",
            "Epoch 55/100\n",
            "1/1 [==============================] - 0s 47ms/step - loss: 0.4530 - accuracy: 0.7600 - val_loss: 0.5639 - val_accuracy: 0.7273\n",
            "Epoch 56/100\n",
            "1/1 [==============================] - 0s 61ms/step - loss: 0.6092 - accuracy: 0.6400 - val_loss: 0.5728 - val_accuracy: 0.7273\n",
            "Epoch 57/100\n",
            "1/1 [==============================] - 0s 42ms/step - loss: 0.8124 - accuracy: 0.6400 - val_loss: 0.5890 - val_accuracy: 0.7273\n",
            "Epoch 58/100\n",
            "1/1 [==============================] - 0s 45ms/step - loss: 0.6741 - accuracy: 0.7200 - val_loss: 0.6069 - val_accuracy: 0.7273\n",
            "Epoch 59/100\n",
            "1/1 [==============================] - 0s 43ms/step - loss: 0.9433 - accuracy: 0.5600 - val_loss: 0.6332 - val_accuracy: 0.7273\n",
            "Epoch 60/100\n",
            "1/1 [==============================] - 0s 36ms/step - loss: 0.7821 - accuracy: 0.6000 - val_loss: 0.6614 - val_accuracy: 0.7273\n",
            "Epoch 61/100\n",
            "1/1 [==============================] - 0s 36ms/step - loss: 0.6336 - accuracy: 0.6800 - val_loss: 0.6832 - val_accuracy: 0.7273\n",
            "Epoch 62/100\n",
            "1/1 [==============================] - 0s 47ms/step - loss: 0.6998 - accuracy: 0.7600 - val_loss: 0.6914 - val_accuracy: 0.7273\n",
            "Epoch 63/100\n",
            "1/1 [==============================] - 0s 55ms/step - loss: 0.7047 - accuracy: 0.7600 - val_loss: 0.6802 - val_accuracy: 0.7273\n",
            "Epoch 64/100\n",
            "1/1 [==============================] - 0s 34ms/step - loss: 0.6432 - accuracy: 0.7200 - val_loss: 0.6680 - val_accuracy: 0.7273\n",
            "Epoch 65/100\n",
            "1/1 [==============================] - 0s 35ms/step - loss: 0.8467 - accuracy: 0.7200 - val_loss: 0.6448 - val_accuracy: 0.7273\n",
            "Epoch 66/100\n",
            "1/1 [==============================] - 0s 35ms/step - loss: 0.8029 - accuracy: 0.6000 - val_loss: 0.6313 - val_accuracy: 0.7273\n",
            "Epoch 67/100\n",
            "1/1 [==============================] - 0s 39ms/step - loss: 0.7665 - accuracy: 0.6400 - val_loss: 0.6140 - val_accuracy: 0.7273\n",
            "Epoch 68/100\n",
            "1/1 [==============================] - 0s 38ms/step - loss: 0.6356 - accuracy: 0.7200 - val_loss: 0.6041 - val_accuracy: 0.7273\n",
            "Epoch 69/100\n",
            "1/1 [==============================] - 0s 34ms/step - loss: 1.0397 - accuracy: 0.5200 - val_loss: 0.5951 - val_accuracy: 0.7273\n",
            "Epoch 70/100\n",
            "1/1 [==============================] - 0s 36ms/step - loss: 0.7158 - accuracy: 0.6800 - val_loss: 0.5863 - val_accuracy: 0.7273\n",
            "Epoch 71/100\n",
            "1/1 [==============================] - 0s 36ms/step - loss: 0.6947 - accuracy: 0.6400 - val_loss: 0.5772 - val_accuracy: 0.7273\n",
            "Epoch 72/100\n",
            "1/1 [==============================] - 0s 36ms/step - loss: 0.7054 - accuracy: 0.7200 - val_loss: 0.5739 - val_accuracy: 0.7273\n",
            "Epoch 73/100\n",
            "1/1 [==============================] - 0s 35ms/step - loss: 0.6073 - accuracy: 0.7200 - val_loss: 0.5756 - val_accuracy: 0.7273\n",
            "Epoch 74/100\n",
            "1/1 [==============================] - 0s 36ms/step - loss: 0.9050 - accuracy: 0.5200 - val_loss: 0.5812 - val_accuracy: 0.7273\n",
            "Epoch 75/100\n",
            "1/1 [==============================] - 0s 44ms/step - loss: 0.9000 - accuracy: 0.6000 - val_loss: 0.5885 - val_accuracy: 0.7273\n",
            "Epoch 76/100\n",
            "1/1 [==============================] - 0s 42ms/step - loss: 0.8933 - accuracy: 0.6400 - val_loss: 0.6063 - val_accuracy: 0.7273\n",
            "Epoch 77/100\n",
            "1/1 [==============================] - 0s 63ms/step - loss: 0.8195 - accuracy: 0.7200 - val_loss: 0.6174 - val_accuracy: 0.7273\n",
            "Epoch 78/100\n",
            "1/1 [==============================] - 0s 62ms/step - loss: 0.9420 - accuracy: 0.6000 - val_loss: 0.6312 - val_accuracy: 0.7273\n",
            "Epoch 79/100\n",
            "1/1 [==============================] - 0s 62ms/step - loss: 0.9438 - accuracy: 0.6000 - val_loss: 0.6442 - val_accuracy: 0.7273\n",
            "Epoch 80/100\n",
            "1/1 [==============================] - 0s 61ms/step - loss: 0.7730 - accuracy: 0.7200 - val_loss: 0.6434 - val_accuracy: 0.7273\n",
            "Epoch 81/100\n",
            "1/1 [==============================] - 0s 61ms/step - loss: 0.7650 - accuracy: 0.6800 - val_loss: 0.6433 - val_accuracy: 0.7273\n",
            "Epoch 82/100\n",
            "1/1 [==============================] - 0s 37ms/step - loss: 0.7247 - accuracy: 0.7600 - val_loss: 0.6430 - val_accuracy: 0.7273\n",
            "Epoch 83/100\n",
            "1/1 [==============================] - 0s 62ms/step - loss: 0.8458 - accuracy: 0.6400 - val_loss: 0.6358 - val_accuracy: 0.7273\n",
            "Epoch 84/100\n",
            "1/1 [==============================] - 0s 37ms/step - loss: 0.7507 - accuracy: 0.6800 - val_loss: 0.6285 - val_accuracy: 0.7273\n",
            "Epoch 85/100\n",
            "1/1 [==============================] - 0s 40ms/step - loss: 0.6339 - accuracy: 0.6800 - val_loss: 0.6171 - val_accuracy: 0.7273\n",
            "Epoch 86/100\n",
            "1/1 [==============================] - 0s 36ms/step - loss: 0.6299 - accuracy: 0.8000 - val_loss: 0.6043 - val_accuracy: 0.7273\n",
            "Epoch 87/100\n",
            "1/1 [==============================] - 0s 37ms/step - loss: 0.7022 - accuracy: 0.6000 - val_loss: 0.5992 - val_accuracy: 0.7273\n",
            "Epoch 88/100\n",
            "1/1 [==============================] - 0s 37ms/step - loss: 0.7218 - accuracy: 0.7200 - val_loss: 0.5963 - val_accuracy: 0.7273\n",
            "Epoch 89/100\n",
            "1/1 [==============================] - 0s 38ms/step - loss: 0.6143 - accuracy: 0.7200 - val_loss: 0.5938 - val_accuracy: 0.7273\n",
            "Epoch 90/100\n",
            "1/1 [==============================] - 0s 35ms/step - loss: 0.7060 - accuracy: 0.7200 - val_loss: 0.5986 - val_accuracy: 0.7273\n",
            "Epoch 91/100\n",
            "1/1 [==============================] - 0s 37ms/step - loss: 0.6956 - accuracy: 0.7600 - val_loss: 0.6017 - val_accuracy: 0.7273\n",
            "Epoch 92/100\n",
            "1/1 [==============================] - 0s 35ms/step - loss: 0.7572 - accuracy: 0.7200 - val_loss: 0.6083 - val_accuracy: 0.7273\n",
            "Epoch 93/100\n",
            "1/1 [==============================] - 0s 33ms/step - loss: 0.7108 - accuracy: 0.6800 - val_loss: 0.6145 - val_accuracy: 0.7273\n",
            "Epoch 94/100\n",
            "1/1 [==============================] - 0s 34ms/step - loss: 0.8220 - accuracy: 0.6000 - val_loss: 0.6289 - val_accuracy: 0.7273\n",
            "Epoch 95/100\n",
            "1/1 [==============================] - 0s 36ms/step - loss: 0.8668 - accuracy: 0.6800 - val_loss: 0.6379 - val_accuracy: 0.7273\n",
            "Epoch 96/100\n",
            "1/1 [==============================] - 0s 61ms/step - loss: 0.7088 - accuracy: 0.6800 - val_loss: 0.6434 - val_accuracy: 0.7273\n",
            "Epoch 97/100\n",
            "1/1 [==============================] - 0s 47ms/step - loss: 0.6933 - accuracy: 0.7600 - val_loss: 0.6440 - val_accuracy: 0.7273\n",
            "Epoch 98/100\n",
            "1/1 [==============================] - 0s 45ms/step - loss: 0.9511 - accuracy: 0.5200 - val_loss: 0.6491 - val_accuracy: 0.7273\n",
            "Epoch 99/100\n",
            "1/1 [==============================] - 0s 67ms/step - loss: 0.9838 - accuracy: 0.5200 - val_loss: 0.6511 - val_accuracy: 0.7273\n",
            "Epoch 100/100\n",
            "1/1 [==============================] - 0s 59ms/step - loss: 0.6001 - accuracy: 0.6800 - val_loss: 0.6503 - val_accuracy: 0.7273\n"
          ]
        }
      ]
    },
    {
      "cell_type": "markdown",
      "source": [
        "\n",
        "\n",
        "b.  Implement binary classification using any two different deep learning\n",
        "models. You may choose from following models:\n",
        "i. EEGNet\n",
        "ii. TSCeption\n",
        "iii. ViT (Vision Transformer)\n",
        "iv. ATCNet\n",
        "v. VAE (Variational Autoencoder)\n",
        "\n"
      ],
      "metadata": {
        "id": "qUdJo_Oga6u2"
      }
    },
    {
      "cell_type": "markdown",
      "source": [
        "**1.Evaluate EEGNet**"
      ],
      "metadata": {
        "id": "_f-ZzyQObPKS"
      }
    },
    {
      "cell_type": "code",
      "source": [
        "from sklearn.metrics import accuracy_score, precision_score, recall_score, f1_score\n",
        "\n",
        "# Evaluate EEGNet\n",
        "y_pred_eegnet = eegnet_psd.predict(X_test_psd)\n",
        "y_pred_eegnet = np.argmax(y_pred_eegnet, axis=1)\n",
        "\n",
        "accuracy_eegnet = accuracy_score(y_test, y_pred_eegnet)\n",
        "precision_eegnet = precision_score(y_test, y_pred_eegnet)\n",
        "recall_eegnet = recall_score(y_test, y_pred_eegnet)\n",
        "f1_eegnet = f1_score(y_test, y_pred_eegnet)\n",
        "\n",
        "print(\"EEGNet Metrics:\")\n",
        "print(f\"Accuracy: {accuracy_eegnet:.4f}\")\n",
        "print(f\"Precision: {precision_eegnet:.4f}\")\n",
        "print(f\"Recall: {recall_eegnet:.4f}\")\n",
        "print(f\"F1-score: {f1_eegnet:.4f}\")\n",
        "\n"
      ],
      "metadata": {
        "colab": {
          "base_uri": "https://localhost:8080/"
        },
        "id": "Odx8KiXSF_5l",
        "outputId": "d840c811-e750-4555-b5d8-4d086dda8d8a"
      },
      "execution_count": null,
      "outputs": [
        {
          "output_type": "stream",
          "name": "stdout",
          "text": [
            "1/1 [==============================] - 0s 233ms/step\n",
            "EEGNet Metrics:\n",
            "Accuracy: 0.7273\n",
            "Precision: 0.7273\n",
            "Recall: 1.0000\n",
            "F1-score: 0.8421\n"
          ]
        }
      ]
    },
    {
      "cell_type": "code",
      "source": [
        "import tensorflow as tf\n",
        "from tensorflow.keras import layers, models\n",
        "\n",
        "def create_simple_model(input_shape, num_classes):\n",
        "    inputs = layers.Input(shape=input_shape)\n",
        "    x = layers.Flatten()(inputs)\n",
        "    x = layers.Dense(256, activation='relu')(x)\n",
        "    x = layers.Dropout(0.5)(x)\n",
        "    x = layers.Dense(128, activation='relu')(x)\n",
        "    x = layers.Dropout(0.5)(x)\n",
        "    outputs = layers.Dense(num_classes, activation='softmax')(x)\n",
        "\n",
        "    model = models.Model(inputs, outputs)\n",
        "    return model\n",
        "\n",
        "# Adjust input shape for ViT\n",
        "input_shape = (Chans, Samples)\n",
        "\n",
        "# Create and compile the model\n",
        "simple_model = create_simple_model(input_shape, nb_classes)\n",
        "simple_model.compile(loss='sparse_categorical_crossentropy', optimizer='adam', metrics=['accuracy'])\n",
        "\n",
        "# Train the model\n",
        "history_simple_model = simple_model.fit(X_train_psd, y_train, epochs=100, validation_data=(X_test_psd, y_test))\n"
      ],
      "metadata": {
        "colab": {
          "base_uri": "https://localhost:8080/"
        },
        "id": "gf5lKoimFs7z",
        "outputId": "9d223782-94a1-484a-ada7-11d48e50179d"
      },
      "execution_count": null,
      "outputs": [
        {
          "output_type": "stream",
          "name": "stdout",
          "text": [
            "Epoch 1/100\n",
            "1/1 [==============================] - 1s 1s/step - loss: 0.8236 - accuracy: 0.5200 - val_loss: 0.6784 - val_accuracy: 0.7273\n",
            "Epoch 2/100\n",
            "1/1 [==============================] - 0s 62ms/step - loss: 1.0504 - accuracy: 0.6000 - val_loss: 0.6768 - val_accuracy: 0.7273\n",
            "Epoch 3/100\n",
            "1/1 [==============================] - 0s 65ms/step - loss: 0.6878 - accuracy: 0.6000 - val_loss: 0.6924 - val_accuracy: 0.7273\n",
            "Epoch 4/100\n",
            "1/1 [==============================] - 0s 69ms/step - loss: 0.8247 - accuracy: 0.4800 - val_loss: 0.6972 - val_accuracy: 0.7273\n",
            "Epoch 5/100\n",
            "1/1 [==============================] - 0s 65ms/step - loss: 0.7247 - accuracy: 0.5600 - val_loss: 0.6968 - val_accuracy: 0.7273\n",
            "Epoch 6/100\n",
            "1/1 [==============================] - 0s 74ms/step - loss: 0.7071 - accuracy: 0.7200 - val_loss: 0.6878 - val_accuracy: 0.7273\n",
            "Epoch 7/100\n",
            "1/1 [==============================] - 0s 79ms/step - loss: 0.9718 - accuracy: 0.6000 - val_loss: 0.6783 - val_accuracy: 0.7273\n",
            "Epoch 8/100\n",
            "1/1 [==============================] - 0s 41ms/step - loss: 0.8782 - accuracy: 0.5600 - val_loss: 0.6729 - val_accuracy: 0.7273\n",
            "Epoch 9/100\n",
            "1/1 [==============================] - 0s 37ms/step - loss: 0.6964 - accuracy: 0.6000 - val_loss: 0.6709 - val_accuracy: 0.7273\n",
            "Epoch 10/100\n",
            "1/1 [==============================] - 0s 36ms/step - loss: 0.7183 - accuracy: 0.6800 - val_loss: 0.6643 - val_accuracy: 0.7273\n",
            "Epoch 11/100\n",
            "1/1 [==============================] - 0s 34ms/step - loss: 0.7475 - accuracy: 0.6400 - val_loss: 0.6546 - val_accuracy: 0.7273\n",
            "Epoch 12/100\n",
            "1/1 [==============================] - 0s 36ms/step - loss: 0.7431 - accuracy: 0.6400 - val_loss: 0.6486 - val_accuracy: 0.7273\n",
            "Epoch 13/100\n",
            "1/1 [==============================] - 0s 39ms/step - loss: 0.7268 - accuracy: 0.6800 - val_loss: 0.6410 - val_accuracy: 0.7273\n",
            "Epoch 14/100\n",
            "1/1 [==============================] - 0s 34ms/step - loss: 0.8214 - accuracy: 0.6400 - val_loss: 0.6347 - val_accuracy: 0.7273\n",
            "Epoch 15/100\n",
            "1/1 [==============================] - 0s 34ms/step - loss: 1.2972 - accuracy: 0.4800 - val_loss: 0.6290 - val_accuracy: 0.7273\n",
            "Epoch 16/100\n",
            "1/1 [==============================] - 0s 35ms/step - loss: 0.7897 - accuracy: 0.6400 - val_loss: 0.6222 - val_accuracy: 0.7273\n",
            "Epoch 17/100\n",
            "1/1 [==============================] - 0s 34ms/step - loss: 0.8847 - accuracy: 0.5600 - val_loss: 0.6160 - val_accuracy: 0.7273\n",
            "Epoch 18/100\n",
            "1/1 [==============================] - 0s 35ms/step - loss: 0.5165 - accuracy: 0.6400 - val_loss: 0.6122 - val_accuracy: 0.7273\n",
            "Epoch 19/100\n",
            "1/1 [==============================] - 0s 35ms/step - loss: 1.0191 - accuracy: 0.7200 - val_loss: 0.6091 - val_accuracy: 0.7273\n",
            "Epoch 20/100\n",
            "1/1 [==============================] - 0s 55ms/step - loss: 0.7207 - accuracy: 0.6000 - val_loss: 0.6072 - val_accuracy: 0.7273\n",
            "Epoch 21/100\n",
            "1/1 [==============================] - 0s 34ms/step - loss: 0.8495 - accuracy: 0.6000 - val_loss: 0.6055 - val_accuracy: 0.7273\n",
            "Epoch 22/100\n",
            "1/1 [==============================] - 0s 35ms/step - loss: 0.8055 - accuracy: 0.6000 - val_loss: 0.6044 - val_accuracy: 0.7273\n",
            "Epoch 23/100\n",
            "1/1 [==============================] - 0s 44ms/step - loss: 0.5960 - accuracy: 0.6400 - val_loss: 0.6035 - val_accuracy: 0.7273\n",
            "Epoch 24/100\n",
            "1/1 [==============================] - 0s 36ms/step - loss: 0.5706 - accuracy: 0.7200 - val_loss: 0.6030 - val_accuracy: 0.7273\n",
            "Epoch 25/100\n",
            "1/1 [==============================] - 0s 34ms/step - loss: 0.6542 - accuracy: 0.6800 - val_loss: 0.6028 - val_accuracy: 0.7273\n",
            "Epoch 26/100\n",
            "1/1 [==============================] - 0s 36ms/step - loss: 0.6504 - accuracy: 0.7600 - val_loss: 0.6022 - val_accuracy: 0.7273\n",
            "Epoch 27/100\n",
            "1/1 [==============================] - 0s 35ms/step - loss: 0.7197 - accuracy: 0.6800 - val_loss: 0.6016 - val_accuracy: 0.7273\n",
            "Epoch 28/100\n",
            "1/1 [==============================] - 0s 35ms/step - loss: 0.7967 - accuracy: 0.6400 - val_loss: 0.6011 - val_accuracy: 0.7273\n",
            "Epoch 29/100\n",
            "1/1 [==============================] - 0s 37ms/step - loss: 0.6110 - accuracy: 0.5200 - val_loss: 0.6014 - val_accuracy: 0.7273\n",
            "Epoch 30/100\n",
            "1/1 [==============================] - 0s 42ms/step - loss: 0.7803 - accuracy: 0.6800 - val_loss: 0.6017 - val_accuracy: 0.7273\n",
            "Epoch 31/100\n",
            "1/1 [==============================] - 0s 43ms/step - loss: 1.0356 - accuracy: 0.5600 - val_loss: 0.6012 - val_accuracy: 0.7273\n",
            "Epoch 32/100\n",
            "1/1 [==============================] - 0s 43ms/step - loss: 0.6139 - accuracy: 0.7200 - val_loss: 0.6016 - val_accuracy: 0.7273\n",
            "Epoch 33/100\n",
            "1/1 [==============================] - 0s 43ms/step - loss: 0.8075 - accuracy: 0.5600 - val_loss: 0.6016 - val_accuracy: 0.7273\n",
            "Epoch 34/100\n",
            "1/1 [==============================] - 0s 47ms/step - loss: 0.8804 - accuracy: 0.4800 - val_loss: 0.6015 - val_accuracy: 0.7273\n",
            "Epoch 35/100\n",
            "1/1 [==============================] - 0s 60ms/step - loss: 0.7294 - accuracy: 0.6000 - val_loss: 0.6010 - val_accuracy: 0.7273\n",
            "Epoch 36/100\n",
            "1/1 [==============================] - 0s 61ms/step - loss: 0.5953 - accuracy: 0.6800 - val_loss: 0.6003 - val_accuracy: 0.7273\n",
            "Epoch 37/100\n",
            "1/1 [==============================] - 0s 60ms/step - loss: 0.6438 - accuracy: 0.6800 - val_loss: 0.5994 - val_accuracy: 0.7273\n",
            "Epoch 38/100\n",
            "1/1 [==============================] - 0s 56ms/step - loss: 0.7442 - accuracy: 0.6000 - val_loss: 0.5989 - val_accuracy: 0.7273\n",
            "Epoch 39/100\n",
            "1/1 [==============================] - 0s 38ms/step - loss: 0.6341 - accuracy: 0.7200 - val_loss: 0.5984 - val_accuracy: 0.7273\n",
            "Epoch 40/100\n",
            "1/1 [==============================] - 0s 36ms/step - loss: 0.5997 - accuracy: 0.7600 - val_loss: 0.5981 - val_accuracy: 0.7273\n",
            "Epoch 41/100\n",
            "1/1 [==============================] - 0s 37ms/step - loss: 0.7053 - accuracy: 0.6400 - val_loss: 0.5981 - val_accuracy: 0.7273\n",
            "Epoch 42/100\n",
            "1/1 [==============================] - 0s 35ms/step - loss: 0.6023 - accuracy: 0.7200 - val_loss: 0.5988 - val_accuracy: 0.7273\n",
            "Epoch 43/100\n",
            "1/1 [==============================] - 0s 51ms/step - loss: 0.6914 - accuracy: 0.7600 - val_loss: 0.6003 - val_accuracy: 0.7273\n",
            "Epoch 44/100\n",
            "1/1 [==============================] - 0s 57ms/step - loss: 0.6923 - accuracy: 0.7600 - val_loss: 0.6027 - val_accuracy: 0.7273\n",
            "Epoch 45/100\n",
            "1/1 [==============================] - 0s 34ms/step - loss: 0.7692 - accuracy: 0.6800 - val_loss: 0.6054 - val_accuracy: 0.7273\n",
            "Epoch 46/100\n",
            "1/1 [==============================] - 0s 36ms/step - loss: 0.7208 - accuracy: 0.6400 - val_loss: 0.6078 - val_accuracy: 0.7273\n",
            "Epoch 47/100\n",
            "1/1 [==============================] - 0s 35ms/step - loss: 0.8985 - accuracy: 0.6000 - val_loss: 0.6102 - val_accuracy: 0.7273\n",
            "Epoch 48/100\n",
            "1/1 [==============================] - 0s 35ms/step - loss: 0.6859 - accuracy: 0.6000 - val_loss: 0.6110 - val_accuracy: 0.7273\n",
            "Epoch 49/100\n",
            "1/1 [==============================] - 0s 54ms/step - loss: 0.4902 - accuracy: 0.8400 - val_loss: 0.6101 - val_accuracy: 0.7273\n",
            "Epoch 50/100\n",
            "1/1 [==============================] - 0s 62ms/step - loss: 0.6419 - accuracy: 0.6000 - val_loss: 0.6081 - val_accuracy: 0.7273\n",
            "Epoch 51/100\n",
            "1/1 [==============================] - 0s 63ms/step - loss: 0.6372 - accuracy: 0.7600 - val_loss: 0.6062 - val_accuracy: 0.7273\n",
            "Epoch 52/100\n",
            "1/1 [==============================] - 0s 42ms/step - loss: 1.0034 - accuracy: 0.4400 - val_loss: 0.6056 - val_accuracy: 0.7273\n",
            "Epoch 53/100\n",
            "1/1 [==============================] - 0s 44ms/step - loss: 0.7725 - accuracy: 0.6000 - val_loss: 0.6058 - val_accuracy: 0.7273\n",
            "Epoch 54/100\n",
            "1/1 [==============================] - 0s 34ms/step - loss: 0.8423 - accuracy: 0.6400 - val_loss: 0.6066 - val_accuracy: 0.7273\n",
            "Epoch 55/100\n",
            "1/1 [==============================] - 0s 38ms/step - loss: 0.5765 - accuracy: 0.6800 - val_loss: 0.6064 - val_accuracy: 0.7273\n",
            "Epoch 56/100\n",
            "1/1 [==============================] - 0s 36ms/step - loss: 0.5744 - accuracy: 0.6400 - val_loss: 0.6057 - val_accuracy: 0.7273\n",
            "Epoch 57/100\n",
            "1/1 [==============================] - 0s 60ms/step - loss: 0.6111 - accuracy: 0.6800 - val_loss: 0.6045 - val_accuracy: 0.7273\n",
            "Epoch 58/100\n",
            "1/1 [==============================] - 0s 37ms/step - loss: 0.6254 - accuracy: 0.6800 - val_loss: 0.6028 - val_accuracy: 0.7273\n",
            "Epoch 59/100\n",
            "1/1 [==============================] - 0s 36ms/step - loss: 0.5719 - accuracy: 0.6400 - val_loss: 0.6003 - val_accuracy: 0.7273\n",
            "Epoch 60/100\n",
            "1/1 [==============================] - 0s 36ms/step - loss: 0.6820 - accuracy: 0.5600 - val_loss: 0.5983 - val_accuracy: 0.7273\n",
            "Epoch 61/100\n",
            "1/1 [==============================] - 0s 39ms/step - loss: 0.6735 - accuracy: 0.6000 - val_loss: 0.5967 - val_accuracy: 0.7273\n",
            "Epoch 62/100\n",
            "1/1 [==============================] - 0s 43ms/step - loss: 0.6665 - accuracy: 0.6000 - val_loss: 0.5948 - val_accuracy: 0.7273\n",
            "Epoch 63/100\n",
            "1/1 [==============================] - 0s 36ms/step - loss: 0.5745 - accuracy: 0.6800 - val_loss: 0.5937 - val_accuracy: 0.7273\n",
            "Epoch 64/100\n",
            "1/1 [==============================] - 0s 36ms/step - loss: 0.5771 - accuracy: 0.7200 - val_loss: 0.5932 - val_accuracy: 0.7273\n",
            "Epoch 65/100\n",
            "1/1 [==============================] - 0s 35ms/step - loss: 0.6392 - accuracy: 0.6800 - val_loss: 0.5929 - val_accuracy: 0.7273\n",
            "Epoch 66/100\n",
            "1/1 [==============================] - 0s 55ms/step - loss: 0.7736 - accuracy: 0.6800 - val_loss: 0.5929 - val_accuracy: 0.7273\n",
            "Epoch 67/100\n",
            "1/1 [==============================] - 0s 36ms/step - loss: 0.7160 - accuracy: 0.6800 - val_loss: 0.5929 - val_accuracy: 0.7273\n",
            "Epoch 68/100\n",
            "1/1 [==============================] - 0s 36ms/step - loss: 0.6179 - accuracy: 0.7600 - val_loss: 0.5931 - val_accuracy: 0.7273\n",
            "Epoch 69/100\n",
            "1/1 [==============================] - 0s 35ms/step - loss: 0.6698 - accuracy: 0.6800 - val_loss: 0.5940 - val_accuracy: 0.7273\n",
            "Epoch 70/100\n",
            "1/1 [==============================] - 0s 36ms/step - loss: 0.8857 - accuracy: 0.6800 - val_loss: 0.5950 - val_accuracy: 0.7273\n",
            "Epoch 71/100\n",
            "1/1 [==============================] - 0s 40ms/step - loss: 0.9984 - accuracy: 0.6400 - val_loss: 0.5966 - val_accuracy: 0.7273\n",
            "Epoch 72/100\n",
            "1/1 [==============================] - 0s 45ms/step - loss: 0.5902 - accuracy: 0.7200 - val_loss: 0.5978 - val_accuracy: 0.7273\n",
            "Epoch 73/100\n",
            "1/1 [==============================] - 0s 48ms/step - loss: 0.6185 - accuracy: 0.6400 - val_loss: 0.5986 - val_accuracy: 0.7273\n",
            "Epoch 74/100\n",
            "1/1 [==============================] - 0s 60ms/step - loss: 0.5095 - accuracy: 0.6800 - val_loss: 0.5992 - val_accuracy: 0.7273\n",
            "Epoch 75/100\n",
            "1/1 [==============================] - 0s 45ms/step - loss: 0.7357 - accuracy: 0.8000 - val_loss: 0.5999 - val_accuracy: 0.7273\n",
            "Epoch 76/100\n",
            "1/1 [==============================] - 0s 62ms/step - loss: 0.5501 - accuracy: 0.7600 - val_loss: 0.6005 - val_accuracy: 0.7273\n",
            "Epoch 77/100\n",
            "1/1 [==============================] - 0s 62ms/step - loss: 0.5387 - accuracy: 0.8000 - val_loss: 0.6001 - val_accuracy: 0.7273\n",
            "Epoch 78/100\n",
            "1/1 [==============================] - 0s 41ms/step - loss: 0.6125 - accuracy: 0.7600 - val_loss: 0.6013 - val_accuracy: 0.7273\n",
            "Epoch 79/100\n",
            "1/1 [==============================] - 0s 34ms/step - loss: 0.7374 - accuracy: 0.7600 - val_loss: 0.6023 - val_accuracy: 0.7273\n",
            "Epoch 80/100\n",
            "1/1 [==============================] - 0s 35ms/step - loss: 0.6392 - accuracy: 0.7200 - val_loss: 0.6033 - val_accuracy: 0.7273\n",
            "Epoch 81/100\n",
            "1/1 [==============================] - 0s 34ms/step - loss: 0.5968 - accuracy: 0.6400 - val_loss: 0.6034 - val_accuracy: 0.7273\n",
            "Epoch 82/100\n",
            "1/1 [==============================] - 0s 35ms/step - loss: 0.7280 - accuracy: 0.7200 - val_loss: 0.6038 - val_accuracy: 0.7273\n",
            "Epoch 83/100\n",
            "1/1 [==============================] - 0s 39ms/step - loss: 0.7386 - accuracy: 0.6800 - val_loss: 0.6041 - val_accuracy: 0.7273\n",
            "Epoch 84/100\n",
            "1/1 [==============================] - 0s 38ms/step - loss: 0.6348 - accuracy: 0.7200 - val_loss: 0.6042 - val_accuracy: 0.7273\n",
            "Epoch 85/100\n",
            "1/1 [==============================] - 0s 34ms/step - loss: 0.5944 - accuracy: 0.7200 - val_loss: 0.6028 - val_accuracy: 0.7273\n",
            "Epoch 86/100\n",
            "1/1 [==============================] - 0s 36ms/step - loss: 0.6103 - accuracy: 0.6800 - val_loss: 0.6016 - val_accuracy: 0.7273\n",
            "Epoch 87/100\n",
            "1/1 [==============================] - 0s 34ms/step - loss: 0.6283 - accuracy: 0.7600 - val_loss: 0.6011 - val_accuracy: 0.7273\n",
            "Epoch 88/100\n",
            "1/1 [==============================] - 0s 35ms/step - loss: 0.6805 - accuracy: 0.6400 - val_loss: 0.6001 - val_accuracy: 0.7273\n",
            "Epoch 89/100\n",
            "1/1 [==============================] - 0s 43ms/step - loss: 0.6778 - accuracy: 0.6400 - val_loss: 0.5992 - val_accuracy: 0.7273\n",
            "Epoch 90/100\n",
            "1/1 [==============================] - 0s 35ms/step - loss: 0.7438 - accuracy: 0.6000 - val_loss: 0.5982 - val_accuracy: 0.7273\n",
            "Epoch 91/100\n",
            "1/1 [==============================] - 0s 37ms/step - loss: 0.6298 - accuracy: 0.6800 - val_loss: 0.5974 - val_accuracy: 0.7273\n",
            "Epoch 92/100\n",
            "1/1 [==============================] - 0s 35ms/step - loss: 0.6033 - accuracy: 0.7200 - val_loss: 0.5968 - val_accuracy: 0.7273\n",
            "Epoch 93/100\n",
            "1/1 [==============================] - 0s 39ms/step - loss: 0.6737 - accuracy: 0.6000 - val_loss: 0.5970 - val_accuracy: 0.7273\n",
            "Epoch 94/100\n",
            "1/1 [==============================] - 0s 46ms/step - loss: 0.5435 - accuracy: 0.7200 - val_loss: 0.5960 - val_accuracy: 0.7273\n",
            "Epoch 95/100\n",
            "1/1 [==============================] - 0s 46ms/step - loss: 0.6442 - accuracy: 0.7600 - val_loss: 0.5955 - val_accuracy: 0.7273\n",
            "Epoch 96/100\n",
            "1/1 [==============================] - 0s 60ms/step - loss: 0.7143 - accuracy: 0.6800 - val_loss: 0.5951 - val_accuracy: 0.7273\n",
            "Epoch 97/100\n",
            "1/1 [==============================] - 0s 45ms/step - loss: 0.5825 - accuracy: 0.7600 - val_loss: 0.5947 - val_accuracy: 0.7273\n",
            "Epoch 98/100\n",
            "1/1 [==============================] - 0s 46ms/step - loss: 0.6749 - accuracy: 0.6800 - val_loss: 0.5949 - val_accuracy: 0.7273\n",
            "Epoch 99/100\n",
            "1/1 [==============================] - 0s 42ms/step - loss: 0.5922 - accuracy: 0.6400 - val_loss: 0.5947 - val_accuracy: 0.7273\n",
            "Epoch 100/100\n",
            "1/1 [==============================] - 0s 36ms/step - loss: 0.5485 - accuracy: 0.6800 - val_loss: 0.5942 - val_accuracy: 0.7273\n"
          ]
        }
      ]
    },
    {
      "cell_type": "markdown",
      "source": [
        "Evaluate the models using appropriate metrics (accuracy, precision, recall,\n",
        "F1-score) and discuss the results."
      ],
      "metadata": {
        "id": "-X8pjd4kbtgR"
      }
    },
    {
      "cell_type": "code",
      "source": [
        "# Evaluate Simple Dense Model\n",
        "y_pred_simple = simple_model.predict(X_test_psd)\n",
        "y_pred_simple = np.argmax(y_pred_simple, axis=1)\n",
        "\n",
        "accuracy_simple = accuracy_score(y_test, y_pred_simple)\n",
        "precision_simple = precision_score(y_test, y_pred_simple)\n",
        "recall_simple = recall_score(y_test, y_pred_simple)\n",
        "f1_simple = f1_score(y_test, y_pred_simple)\n",
        "\n",
        "print(\"\\nSimple Dense Model Metrics:\")\n",
        "print(f\"Accuracy: {accuracy_simple:.4f}\")\n",
        "print(f\"Precision: {precision_simple:.4f}\")\n",
        "print(f\"Recall: {recall_simple:.4f}\")\n",
        "print(f\"F1-score: {f1_simple:.4f}\")\n"
      ],
      "metadata": {
        "colab": {
          "base_uri": "https://localhost:8080/"
        },
        "id": "UA_FqyLvGE3t",
        "outputId": "8e901938-30b9-4001-f7b4-92a302edb20f"
      },
      "execution_count": null,
      "outputs": [
        {
          "output_type": "stream",
          "name": "stdout",
          "text": [
            "1/1 [==============================] - 0s 131ms/step\n",
            "\n",
            "Simple Dense Model Metrics:\n",
            "Accuracy: 0.7273\n",
            "Precision: 0.7273\n",
            "Recall: 1.0000\n",
            "F1-score: 0.8421\n"
          ]
        }
      ]
    },
    {
      "cell_type": "code",
      "source": [
        "import matplotlib.pyplot as plt\n",
        "import numpy as np\n",
        "from sklearn.metrics import confusion_matrix, ConfusionMatrixDisplay\n",
        "\n",
        "# Function to plot confusion matrix\n",
        "def plot_confusion_matrix(y_true, y_pred, classes, title):\n",
        "    cm = confusion_matrix(y_true, y_pred)\n",
        "    disp = ConfusionMatrixDisplay(confusion_matrix=cm, display_labels=classes)\n",
        "    disp.plot(cmap=plt.cm.Blues)\n",
        "    plt.title(title)\n",
        "    plt.show()\n",
        "\n",
        "# Define class labels for confusion matrix\n",
        "class_names = ['Group B', 'Group G']  # Assuming '0' is Group B and '1' is Group G\n",
        "\n",
        "# Plot confusion matrix for EEGNet\n",
        "plot_confusion_matrix(y_test, y_pred_eegnet, classes=class_names, title='EEGNet Confusion Matrix')\n",
        "\n",
        "# Plot confusion matrix for Simple Dense Model\n",
        "plot_confusion_matrix(y_test, y_pred_simple, classes=class_names, title='Simple Dense Model Confusion Matrix')\n",
        "\n",
        "# Plot metrics\n",
        "labels = ['Accuracy', 'Precision', 'Recall', 'F1-score']\n",
        "eegnet_metrics = [accuracy_eegnet, precision_eegnet, recall_eegnet, f1_eegnet]\n",
        "simple_metrics = [accuracy_simple, precision_simple, recall_simple, f1_simple]\n",
        "\n",
        "x = np.arange(len(labels))  # the label locations\n",
        "width = 0.35  # the width of the bars\n",
        "\n",
        "fig, ax = plt.subplots(figsize=(10, 6))\n",
        "rects1 = ax.bar(x - width/2, eegnet_metrics, width, label='EEGNet')\n",
        "rects2 = ax.bar(x + width/2, simple_metrics, width, label='Simple Dense Model')\n",
        "\n",
        "# Add some text for labels, title and custom x-axis tick labels, etc.\n",
        "ax.set_ylabel('Scores')\n",
        "ax.set_title('Comparison of Evaluation Metrics')\n",
        "ax.set_xticks(x)\n",
        "ax.set_xticklabels(labels)\n",
        "ax.legend()\n",
        "\n",
        "# Attach a function to each bar that displays its height\n",
        "def autolabel(rects):\n",
        "    for rect in rects:\n",
        "        height = rect.get_height()\n",
        "        ax.annotate('%.4f' % height,\n",
        "                    xy=(rect.get_x() + rect.get_width() / 2, height),\n",
        "                    xytext=(0, 3),  # 3 points vertical offset\n",
        "                    textcoords=\"offset points\",\n",
        "                    ha='center', va='bottom')\n",
        "\n",
        "autolabel(rects1)\n",
        "autolabel(rects2)\n",
        "\n",
        "fig.tight_layout()\n",
        "\n",
        "plt.show()\n"
      ],
      "metadata": {
        "colab": {
          "base_uri": "https://localhost:8080/",
          "height": 1000
        },
        "id": "1L3_Ctp2GE0U",
        "outputId": "ad5e9f18-b725-4a8f-f1c3-2884689bb87b"
      },
      "execution_count": null,
      "outputs": [
        {
          "output_type": "display_data",
          "data": {
            "text/plain": [
              "<Figure size 640x480 with 2 Axes>"
            ],
            "image/png": "[encoded data removed]"
          },
          "metadata": {}
        },
        {
          "output_type": "display_data",
          "data": {
            "text/plain": [
              "<Figure size 640x480 with 2 Axes>"
            ],
            "image/png": "[encoded data removed]"
          },
          "metadata": {}
        },
        {
          "output_type": "display_data",
          "data": {
            "text/plain": [
              "<Figure size 1000x600 with 1 Axes>"
            ],
            "image/png": "[encoded data removed]"
          },
          "metadata": {}
        }
      ]
    }
  ]
}